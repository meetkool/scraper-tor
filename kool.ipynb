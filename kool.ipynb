{
 "cells": [
  {
   "cell_type": "code",
   "execution_count": 3,
   "metadata": {},
   "outputs": [],
   "source": [
    "from tkinter import BROWSE\n",
    "from selenium import webdriver\n",
    "from time import sleep \n",
    "import requests , time ,random \n",
    "from bs4 import BeautifulSoup"
   ]
  },
  {
   "cell_type": "code",
   "execution_count": 4,
   "metadata": {},
   "outputs": [
    {
     "name": "stderr",
     "output_type": "stream",
     "text": [
      "C:\\Users\\meet\\AppData\\Local\\Temp\\ipykernel_15800\\1520804734.py:3: DeprecationWarning: executable_path has been deprecated, please pass in a Service object\n",
      "  driver = webdriver.Chrome(path)\n",
      "C:\\Users\\meet\\AppData\\Local\\Temp\\ipykernel_15800\\1520804734.py:7: DeprecationWarning: find_element_by_* commands are deprecated. Please use find_element() instead\n",
      "  username = driver.find_element_by_id(\"username\")\n",
      "C:\\Users\\meet\\AppData\\Local\\Temp\\ipykernel_15800\\1520804734.py:9: DeprecationWarning: find_element_by_* commands are deprecated. Please use find_element() instead\n",
      "  passwd = driver.find_element_by_id(\"password\")\n",
      "C:\\Users\\meet\\AppData\\Local\\Temp\\ipykernel_15800\\1520804734.py:15: DeprecationWarning: find_element_by_xpath is deprecated. Please use find_element(by=By.XPATH, value=xpath) instead\n",
      "  log_in_button = driver.find_element_by_xpath(\"//*[@type='submit']\")\n"
     ]
    }
   ],
   "source": [
    "website='https://www.linkedin.com/login'\n",
    "path = 'C:\\chromedriver'\n",
    "driver = webdriver.Chrome(path)\n",
    "sleep(5)\n",
    "driver.get(website)\n",
    "# -------------------------------------------\n",
    "username = driver.find_element_by_id(\"username\")\n",
    "\n",
    "passwd = driver.find_element_by_id(\"password\")\n",
    "\n",
    "username.send_keys(\"kooljoolj@gmail.com\")\n",
    "sleep(2)\n",
    "passwd.send_keys(\"meet1234\")\n",
    "sleep(3)\n",
    "log_in_button = driver.find_element_by_xpath(\"//*[@type='submit']\")\n",
    "sleep(3)\n",
    "log_in_button.click()"
   ]
  },
  {
   "cell_type": "code",
   "execution_count": 71,
   "metadata": {},
   "outputs": [],
   "source": [
    "user= \"/in/meet-bhanushali-b69606229/\"\n",
    "link =\"https://www.linkedin.com\"\n",
    "driver.get(link+user)\n",
    "sleep(3)"
   ]
  },
  {
   "cell_type": "code",
   "execution_count": 72,
   "metadata": {},
   "outputs": [],
   "source": [
    "start = time.time()\n",
    "#---------------------------------------------\n",
    "# scroll\n",
    "# will be used in the while loop\n",
    "initialScroll = 0\n",
    "finalScroll = 1000\n",
    "  \n",
    "while True:\n",
    "    driver.execute_script(f\"window.scrollTo({initialScroll},{finalScroll})\")\n",
    "    initialScroll = finalScroll\n",
    "    finalScroll += 1000\n",
    "    time.sleep(3)\n",
    "    end = time.time()\n",
    "    if round(end - start) > 20:\n",
    "        break\n"
   ]
  },
  {
   "cell_type": "code",
   "execution_count": 73,
   "metadata": {},
   "outputs": [],
   "source": [
    "src = driver.page_source\n",
    "# src\n",
    "soup = BeautifulSoup(src,'lxml')\n",
    "# soup"
   ]
  },
  {
   "cell_type": "code",
   "execution_count": 74,
   "metadata": {},
   "outputs": [],
   "source": [
    "name_dev= soup.find('main',{'class':'scaffold-layout__main'})\n",
    "# name_dev"
   ]
  },
  {
   "cell_type": "code",
   "execution_count": 75,
   "metadata": {},
   "outputs": [],
   "source": [
    "edu = name_dev.find_all('span',{'class':'t-bold mr1 hoverable-link-text'})"
   ]
  },
  {
   "cell_type": "code",
   "execution_count": 76,
   "metadata": {},
   "outputs": [
    {
     "data": {
      "text/plain": [
       "['Meet Bhanushali',\n",
       " 'Intern at MerciAI | 3🌟 Codechef | BTech-CS (Fresher) IIIT LUCKNOW | wc',\n",
       " 'Thane, Maharashtra, India',\n",
       " 'contection :- 180',\n",
       " 'IIIT LUCKNOW',\n",
       " 'Anubhuti School']"
      ]
     },
     "execution_count": 76,
     "metadata": {},
     "output_type": "execute_result"
    }
   ],
   "source": [
    "#to the name of the profile \n",
    "name_loc = name_dev.find_all('h1')\n",
    "name = [name_loc[0].get_text().strip(),name_dev.find('div',{'class':'break-words'}).get_text().strip(),name_dev.find('span',{'class':'text-body-small inline t-black--light break-words'}).get_text().strip(),\"contection :- \"+ name_dev.find('span',{'class':'t-bold'}).get_text().strip(),edu[0].find('span',{'class':'visually-hidden'}).get_text().strip(),edu[1].find('span',{'class':'visually-hidden'}).get_text().strip(),]\n",
    "name \n",
    "\n",
    "# print(name + content)"
   ]
  },
  {
   "cell_type": "code",
   "execution_count": 77,
   "metadata": {},
   "outputs": [
    {
     "data": {
      "text/plain": [
       "'Intern at MerciAI | 3🌟 Codechef | BTech-CS (Fresher) IIIT LUCKNOW | wc'"
      ]
     },
     "execution_count": 77,
     "metadata": {},
     "output_type": "execute_result"
    }
   ],
   "source": [
    "content = name_dev.find('div',{'class':'break-words'}).get_text().strip()\n",
    "content"
   ]
  },
  {
   "cell_type": "code",
   "execution_count": 78,
   "metadata": {},
   "outputs": [
    {
     "name": "stdout",
     "output_type": "stream",
     "text": [
      "Thane, Maharashtra, India\n"
     ]
    }
   ],
   "source": [
    "addrass= name_dev.find('span',{'class':'text-body-small inline t-black--light break-words'}).get_text().strip()\n",
    "print(addrass)\n"
   ]
  },
  {
   "cell_type": "code",
   "execution_count": 79,
   "metadata": {},
   "outputs": [
    {
     "data": {
      "text/plain": [
       "'180'"
      ]
     },
     "execution_count": 79,
     "metadata": {},
     "output_type": "execute_result"
    }
   ],
   "source": [
    "connection = name_dev.find('span',{'class':'t-bold'}).get_text().strip()\n",
    "connection\n"
   ]
  },
  {
   "cell_type": "code",
   "execution_count": 80,
   "metadata": {},
   "outputs": [
    {
     "name": "stdout",
     "output_type": "stream",
     "text": [
      "Artificial Intelligence (CAIP®) Accredited Training for IT Professionals\n",
      "Meet is attending this event\n",
      "5d\n",
      "2w\n",
      "Student Intern\n",
      "MerciAI Laboratoire LLP · Internship\n",
      "Feb 2022 - Present · 1 mo\n",
      "United States\n",
      "IIIT LUCKNOW\n",
      "Bachelor of Technology - BTech, Computer Science\n",
      "2021 - 2025\n",
      "Anubhuti School\n",
      "May 2013 - Feb 2016\n",
      "Engineering\n",
      "Research\n",
      "Problem Solving\n",
      "HackerEarth\n",
      "395,396 followers\n",
      "Anubhuti School\n",
      "221 followers\n",
      "Data Scientist (R, Python, AI & ML, Deep Learning ) - Data Architect / Data Analyst / Data Engineer\n",
      "3,631 members\n",
      "Big Data, Data Science, AI, IoT, Cloud Security & Blockchain\n",
      "253,565 members\n",
      "Anubhuti School\n",
      "221 followers\n"
     ]
    }
   ],
   "source": [
    "mm1= soup.find_all('ul',{'class':'pvs-list'})\n",
    "mm= mm1[2].find_all('span',{'class':'visually-hidden'})\n",
    "# mm\n",
    "# po12=mm[0].find_all('span',{'class':'visually-hidden'})\n",
    "# # po12\n",
    "for x in mm1 :\n",
    "    mm=x.find_all('span',{'class':'visually-hidden'})\n",
    "    for y in mm:\n",
    "        y=y.get_text().strip()\n",
    "        print(y)\n",
    "    # x=x.get_text().strip()\n",
    "    # print(x)"
   ]
  },
  {
   "cell_type": "code",
   "execution_count": 81,
   "metadata": {},
   "outputs": [
    {
     "ename": "IndexError",
     "evalue": "list index out of range",
     "output_type": "error",
     "traceback": [
      "\u001b[1;31m---------------------------------------------------------------------------\u001b[0m",
      "\u001b[1;31mIndexError\u001b[0m                                Traceback (most recent call last)",
      "\u001b[1;32mf:\\internship\\scraper\\kool.ipynb Cell 13'\u001b[0m in \u001b[0;36m<module>\u001b[1;34m\u001b[0m\n\u001b[0;32m      <a href='vscode-notebook-cell:/f%3A/internship/scraper/kool.ipynb#ch0000012?line=0'>1</a>\u001b[0m ed1\u001b[39m=\u001b[39m soup\u001b[39m.\u001b[39mfind_all(\u001b[39m'\u001b[39m\u001b[39msection\u001b[39m\u001b[39m'\u001b[39m,{\u001b[39m'\u001b[39m\u001b[39mid\u001b[39m\u001b[39m'\u001b[39m:\u001b[39m'\u001b[39m\u001b[39member91\u001b[39m\u001b[39m'\u001b[39m})\n\u001b[1;32m----> <a href='vscode-notebook-cell:/f%3A/internship/scraper/kool.ipynb#ch0000012?line=1'>2</a>\u001b[0m ed2\u001b[39m=\u001b[39m ed1[\u001b[39m0\u001b[39;49m]\u001b[39m.\u001b[39mfind_all(\u001b[39m'\u001b[39m\u001b[39mul\u001b[39m\u001b[39m'\u001b[39m,{\u001b[39m'\u001b[39m\u001b[39mclass\u001b[39m\u001b[39m'\u001b[39m:\u001b[39m'\u001b[39m\u001b[39mpvs-list ph5 display-flex flex-row flex-wrap\u001b[39m\u001b[39m'\u001b[39m},)\n\u001b[0;32m      <a href='vscode-notebook-cell:/f%3A/internship/scraper/kool.ipynb#ch0000012?line=2'>3</a>\u001b[0m ed3\u001b[39m=\u001b[39med2[\u001b[39m0\u001b[39m]\u001b[39m.\u001b[39mfind_all(\u001b[39m'\u001b[39m\u001b[39mspan\u001b[39m\u001b[39m'\u001b[39m,{\u001b[39m'\u001b[39m\u001b[39mclass\u001b[39m\u001b[39m'\u001b[39m:\u001b[39m'\u001b[39m\u001b[39mvisually-hidden\u001b[39m\u001b[39m'\u001b[39m})\n\u001b[0;32m      <a href='vscode-notebook-cell:/f%3A/internship/scraper/kool.ipynb#ch0000012?line=3'>4</a>\u001b[0m lingth \u001b[39m=\u001b[39m \u001b[39mlen\u001b[39m(ed3)\n",
      "\u001b[1;31mIndexError\u001b[0m: list index out of range"
     ]
    }
   ],
   "source": [
    "ed1= soup.find_all('section',{'id':'ember91'})\n",
    "ed2= ed1[0].find_all('ul',{'class':'pvs-list ph5 display-flex flex-row flex-wrap'},)\n",
    "ed3=ed2[0].find_all('span',{'class':'visually-hidden'})\n",
    "lingth = len(ed3)\n",
    "lingth\n",
    "for x in ed3 :\n",
    "    x=x.get_text().strip()\n",
    "    print(x)\n",
    "# ed1"
   ]
  },
  {
   "cell_type": "code",
   "execution_count": null,
   "metadata": {},
   "outputs": [
    {
     "name": "stdout",
     "output_type": "stream",
     "text": [
      "Artificial Intelligence (CAIP®) Accredited Training for IT Professionals\n",
      "Meet is attending this event\n"
     ]
    }
   ],
   "source": [
    "ed1= soup.find_all('section',{'id':'ember93'})\n",
    "ed2= ed1[0].find_all('ul',{'class':'pvs-list ph5 display-flex flex-row flex-wrap'},)\n",
    "ed3=ed2[0].find_all('span',{'class':'visually-hidden'})\n",
    "lingth = len(ed3)\n",
    "lingth\n",
    "for x in ed3 :\n",
    "    x=x.get_text().strip()\n",
    "    print(x)\n",
    "# ed2"
   ]
  },
  {
   "cell_type": "code",
   "execution_count": null,
   "metadata": {},
   "outputs": [
    {
     "name": "stdout",
     "output_type": "stream",
     "text": [
      "Student Intern\n",
      "MerciAI Laboratoire LLP · Internship\n",
      "Feb 2022 - Present · 1 mo\n",
      "United States\n",
      "Student Intern\n",
      "MerciAI Laboratoire LLP · Internship\n",
      "Feb 2022 - Present · 1 mo\n",
      "United States\n",
      "Student Intern\n",
      "MerciAI Laboratoire LLP · Internship\n",
      "Feb 2022 - Present · 1 mo\n",
      "United States\n"
     ]
    }
   ],
   "source": [
    "for i in range(3):\n",
    "    a_12=\"ember\"\n",
    "    a_13= a_12 + str(90+i)\n",
    "    # print(a_13)\n",
    "    ed1= soup.find_all('section',{'id':'ember93'})\n",
    "    ed2= ed1[0].find_all('ul',{'class':'pvs-list ph5 display-flex flex-row flex-wrap'},)\n",
    "    ed3=ed2[0].find_all('span',{'class':'visually-hidden'})\n",
    "    lingth = len(ed3)\n",
    "    lingth\n",
    "\n",
    "    for x in ed3 :\n",
    "        x=x.get_text().strip()\n",
    "        print(x)\n"
   ]
  },
  {
   "cell_type": "code",
   "execution_count": null,
   "metadata": {},
   "outputs": [
    {
     "name": "stderr",
     "output_type": "stream",
     "text": [
      "C:\\Users\\Admin\\AppData\\Local\\Temp\\ipykernel_12772\\1642135428.py:1: DeprecationWarning: find_element_by_* commands are deprecated. Please use find_element() instead\n",
      "  koo = driver.find_element_by_xpath(\"//a[@class='ember-view']\")\n"
     ]
    }
   ],
   "source": [
    "koo = driver.find_element_by_xpath(\"//a[@class='ember-view']\")\n",
    "koo.click()\n",
    "# driver.findElement(By.linkText(\"click here\")).click();"
   ]
  },
  {
   "cell_type": "code",
   "execution_count": 84,
   "metadata": {},
   "outputs": [
    {
     "name": "stdout",
     "output_type": "stream",
     "text": [
      "['https://www.linkedin.com/feed/update/urn:li:activity:6901375879172493312?updateEntityUrn=urn%3Ali%3Afs_updateV2%3A%28urn%3Ali%3Aactivity%3A6901375879172493312%2CFEED_DETAIL%2CEMPTY%2CDEFAULT%2Cfalse%29', 'https://www.linkedin.com/feed/update/urn:li:activity:6901375879172493312?updateEntityUrn=urn%3Ali%3Afs_updateV2%3A%28urn%3Ali%3Aactivity%3A6901375879172493312%2CFEED_DETAIL%2CEMPTY%2CDEFAULT%2Cfalse%29', 'https://www.linkedin.com/feed/update/urn:li:activity:6898139686439907328?updateEntityUrn=urn%3Ali%3Afs_updateV2%3A%28urn%3Ali%3Aactivity%3A6898139686439907328%2CFEED_DETAIL%2CEMPTY%2CDEFAULT%2Cfalse%29', 'https://www.linkedin.com/feed/update/urn:li:activity:6898139686439907328?updateEntityUrn=urn%3Ali%3Afs_updateV2%3A%28urn%3Ali%3Aactivity%3A6898139686439907328%2CFEED_DETAIL%2CEMPTY%2CDEFAULT%2Cfalse%29']\n"
     ]
    }
   ],
   "source": [
    "page_source = BeautifulSoup(driver.page_source)\n",
    "page_source\n",
    "# profile = page_source.find_all('a',{'class':'app-aware-link'})\n",
    "# profile\n",
    "# allual = []\n",
    "# for profile in profile :\n",
    "#     profile_id=profile.get('href')\n",
    "#     allual.append(profile_id)\n",
    "\n",
    "# print(allual)        "
   ]
  },
  {
   "cell_type": "code",
   "execution_count": null,
   "metadata": {},
   "outputs": [
    {
     "ename": "IndexError",
     "evalue": "list index out of range",
     "output_type": "error",
     "traceback": [
      "\u001b[1;31m---------------------------------------------------------------------------\u001b[0m",
      "\u001b[1;31mIndexError\u001b[0m                                Traceback (most recent call last)",
      "\u001b[1;32mf:\\internship\\scraper\\kool.ipynb Cell 16'\u001b[0m in \u001b[0;36m<module>\u001b[1;34m\u001b[0m\n\u001b[0;32m      <a href='vscode-notebook-cell:/f%3A/internship/scraper/kool.ipynb#ch0000023?line=0'>1</a>\u001b[0m ed1\u001b[39m=\u001b[39m soup\u001b[39m.\u001b[39mfind_all(\u001b[39m'\u001b[39m\u001b[39msection\u001b[39m\u001b[39m'\u001b[39m,{\u001b[39m'\u001b[39m\u001b[39mid\u001b[39m\u001b[39m'\u001b[39m:\u001b[39m'\u001b[39m\u001b[39member92\u001b[39m\u001b[39m'\u001b[39m})\n\u001b[1;32m----> <a href='vscode-notebook-cell:/f%3A/internship/scraper/kool.ipynb#ch0000023?line=1'>2</a>\u001b[0m ed2\u001b[39m=\u001b[39m ed1[\u001b[39m0\u001b[39;49m]\u001b[39m.\u001b[39mfind_all(\u001b[39m'\u001b[39m\u001b[39mul\u001b[39m\u001b[39m'\u001b[39m,{\u001b[39m'\u001b[39m\u001b[39mclass\u001b[39m\u001b[39m'\u001b[39m:\u001b[39m'\u001b[39m\u001b[39mpvs-list ph5 display-flex flex-row flex-wrap\u001b[39m\u001b[39m'\u001b[39m},)\n\u001b[0;32m      <a href='vscode-notebook-cell:/f%3A/internship/scraper/kool.ipynb#ch0000023?line=2'>3</a>\u001b[0m ed3\u001b[39m=\u001b[39med2[\u001b[39m0\u001b[39m]\u001b[39m.\u001b[39mfind_all(\u001b[39m'\u001b[39m\u001b[39mspan\u001b[39m\u001b[39m'\u001b[39m,{\u001b[39m'\u001b[39m\u001b[39mclass\u001b[39m\u001b[39m'\u001b[39m:\u001b[39m'\u001b[39m\u001b[39mvisually-hidden\u001b[39m\u001b[39m'\u001b[39m})\n\u001b[0;32m      <a href='vscode-notebook-cell:/f%3A/internship/scraper/kool.ipynb#ch0000023?line=3'>4</a>\u001b[0m lingth \u001b[39m=\u001b[39m \u001b[39mlen\u001b[39m(ed3)\n",
      "\u001b[1;31mIndexError\u001b[0m: list index out of range"
     ]
    }
   ],
   "source": [
    "ed1= soup.find_all('section',{'id':'ember92'})\n",
    "ed2= ed1[0].find_all('ul',{'class':'pvs-list ph5 display-flex flex-row flex-wrap'},)\n",
    "ed3=ed2[0].find_all('span',{'class':'visually-hidden'})\n",
    "lingth = len(ed3)\n",
    "lingth\n",
    "\n",
    "for x in ed3:\n",
    "    x_1=x.get_text().strip()\n",
    "    print(x_1)"
   ]
  }
 ],
 "metadata": {
  "interpreter": {
   "hash": "2be5faf79681da6f2a61fdfdd5405d65d042280f7fba6178067603e3a2925119"
  },
  "kernelspec": {
   "display_name": "Python 3.10.2 64-bit",
   "language": "python",
   "name": "python3"
  },
  "language_info": {
   "codemirror_mode": {
    "name": "ipython",
    "version": 3
   },
   "file_extension": ".py",
   "mimetype": "text/x-python",
   "name": "python",
   "nbconvert_exporter": "python",
   "pygments_lexer": "ipython3",
   "version": "3.10.3"
  },
  "orig_nbformat": 4
 },
 "nbformat": 4,
 "nbformat_minor": 2
}
